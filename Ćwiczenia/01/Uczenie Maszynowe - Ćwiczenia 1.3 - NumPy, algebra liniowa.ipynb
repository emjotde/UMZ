{
 "cells": [
  {
   "cell_type": "markdown",
   "metadata": {},
   "source": [
    "# 1.3 NumPy - Algebra liniowa\n",
    "\n",
    "NumPy jest pakietem szczególnie przydatnym do obliczeń w dziedzinie algebry liniowej. W uczeniu maszynowym algebra liniowa będzie miała duże znaczenie. \n",
    "\n",
    "Wektor o wymiarach $1 \\times N$ \n",
    "\n",
    "$$\n",
    "    X =\n",
    "    \\begin{pmatrix}\n",
    "    x_{1}  \\\\\n",
    "    x_{2}  \\\\\n",
    "    \\vdots \\\\\n",
    "    x_{N}\n",
    "    \\end{pmatrix} \n",
    "$$\n",
    "\n",
    "i jego transpozycję $\\mathbf{x}^{T} = (x_{1}, x_{2},\\ldots,x_{N})$ można wyrazić w Pythonie w następujący sposób:"
   ]
  },
  {
   "cell_type": "code",
   "execution_count": 2,
   "metadata": {
    "collapsed": false
   },
   "outputs": [
    {
     "data": {
      "text/plain": [
       "(3, 1)"
      ]
     },
     "execution_count": 2,
     "metadata": {},
     "output_type": "execute_result"
    }
   ],
   "source": [
    "import numpy as np\n",
    "x = np.array([[1,2,3]]).T\n",
    "xt = x.T\n",
    "x.shape"
   ]
  },
  {
   "cell_type": "code",
   "execution_count": 4,
   "metadata": {
    "collapsed": false
   },
   "outputs": [
    {
     "data": {
      "text/plain": [
       "(1, 3)"
      ]
     },
     "execution_count": 4,
     "metadata": {},
     "output_type": "execute_result"
    }
   ],
   "source": [
    "xt.shape"
   ]
  },
  {
   "cell_type": "markdown",
   "metadata": {},
   "source": [
    "**Macierz kolumnowa** w NumPy.\n",
    "$$X =\n",
    "    \\begin{pmatrix}\n",
    "    3  \\\\\n",
    "    4  \\\\\n",
    "    5  \\\\\n",
    "    6  \n",
    "    \\end{pmatrix}$$"
   ]
  },
  {
   "cell_type": "code",
   "execution_count": 6,
   "metadata": {
    "collapsed": false
   },
   "outputs": [
    {
     "data": {
      "text/plain": [
       "array([[3],\n",
       "       [4],\n",
       "       [5],\n",
       "       [6]])"
      ]
     },
     "execution_count": 6,
     "metadata": {},
     "output_type": "execute_result"
    }
   ],
   "source": [
    "x = np.array([[3,4,5,6]]).T\n",
    "x"
   ]
  },
  {
   "cell_type": "markdown",
   "metadata": {},
   "source": [
    "A **macierz wierszowa** w NumPy.\n",
    "$$ X =\n",
    "    \\begin{pmatrix}\n",
    "    3 & 4 & 5 & 6\n",
    "    \\end{pmatrix}$$"
   ]
  },
  {
   "cell_type": "code",
   "execution_count": 8,
   "metadata": {
    "collapsed": false
   },
   "outputs": [
    {
     "data": {
      "text/plain": [
       "array([[3, 4, 5, 6]])"
      ]
     },
     "execution_count": 8,
     "metadata": {},
     "output_type": "execute_result"
    }
   ],
   "source": [
    "x = np.array([[3,4,5,6]])\n",
    "x"
   ]
  },
  {
   "cell_type": "markdown",
   "metadata": {},
   "source": [
    "## Obiekty typu `matrix`\n",
    "\n",
    "Macierze ogólne omówiliśmy już w poprzednich dokumentach:\n",
    "\n",
    "$$A_{m,n} =\n",
    "    \\begin{pmatrix}\n",
    "     a_{1,1} & a_{1,2} & \\cdots & a_{1,n} \\\\\n",
    "     a_{2,1} & a_{2,2} & \\cdots & a_{2,n} \\\\\n",
    "     \\vdots  & \\vdots  & \\ddots & \\vdots  \\\\\n",
    "     a_{m,1} & a_{m,2} & \\cdots & a_{m,n}\n",
    "    \\end{pmatrix}$$\n",
    "\n",
    "Oprócz obiektów typu `array` istnieje wyspecjalizowany obiekt `matrix`, dla którego operacje `*` (mnożenie) oraz `**-1` (odwracanie) są określone w sposób właściwy dla macierzy (w przeciwieństwu do operacji elementowych dla obietków `array`)."
   ]
  },
  {
   "cell_type": "code",
   "execution_count": 46,
   "metadata": {
    "collapsed": false
   },
   "outputs": [
    {
     "data": {
      "text/plain": [
       "array([[1, 2, 3],\n",
       "       [4, 5, 6],\n",
       "       [7, 8, 9]])"
      ]
     },
     "execution_count": 46,
     "metadata": {},
     "output_type": "execute_result"
    }
   ],
   "source": [
    "x = np.array([1,2,3,4,5,6,7,8,9]).reshape(3,3)\n",
    "x"
   ]
  },
  {
   "cell_type": "code",
   "execution_count": 48,
   "metadata": {
    "collapsed": false
   },
   "outputs": [
    {
     "data": {
      "text/plain": [
       "matrix([[1, 2, 3],\n",
       "        [4, 5, 6],\n",
       "        [7, 8, 9]])"
      ]
     },
     "execution_count": 48,
     "metadata": {},
     "output_type": "execute_result"
    }
   ],
   "source": [
    "X = np.matrix(x)\n",
    "X"
   ]
  },
  {
   "cell_type": "markdown",
   "metadata": {},
   "source": [
    "## Operacje na macierzach\n",
    "### Wyznacznik"
   ]
  },
  {
   "cell_type": "code",
   "execution_count": 9,
   "metadata": {
    "collapsed": false
   },
   "outputs": [
    {
     "data": {
      "text/plain": [
       "33.000000000000014"
      ]
     },
     "execution_count": 9,
     "metadata": {},
     "output_type": "execute_result"
    }
   ],
   "source": [
    "a = np.array([[3,-9],[2,5]])\n",
    "np.linalg.det(a)"
   ]
  },
  {
   "cell_type": "markdown",
   "metadata": {},
   "source": [
    "### Macierz odwrotna"
   ]
  },
  {
   "cell_type": "code",
   "execution_count": 59,
   "metadata": {
    "collapsed": false
   },
   "outputs": [
    {
     "data": {
      "text/plain": [
       "array([[-4, -2],\n",
       "       [ 5,  5]])"
      ]
     },
     "execution_count": 59,
     "metadata": {},
     "output_type": "execute_result"
    }
   ],
   "source": [
    "A = np.array([[-4,-2],[5,5]])\n",
    "A"
   ]
  },
  {
   "cell_type": "code",
   "execution_count": 60,
   "metadata": {
    "collapsed": false
   },
   "outputs": [
    {
     "data": {
      "text/plain": [
       "array([[-0.5, -0.2],\n",
       "       [ 0.5,  0.4]])"
      ]
     },
     "execution_count": 60,
     "metadata": {},
     "output_type": "execute_result"
    }
   ],
   "source": [
    "invA = np.linalg.inv(A)\n",
    "invA"
   ]
  },
  {
   "cell_type": "code",
   "execution_count": 61,
   "metadata": {
    "collapsed": false
   },
   "outputs": [
    {
     "data": {
      "text/plain": [
       "array([[ 1.,  0.],\n",
       "       [ 0.,  1.]])"
      ]
     },
     "execution_count": 61,
     "metadata": {},
     "output_type": "execute_result"
    }
   ],
   "source": [
    "np.round(np.dot(A,invA))"
   ]
  },
  {
   "cell_type": "markdown",
   "metadata": {},
   "source": [
    "Ponieważ $AA^{-1} = A^{-1}A = I$."
   ]
  },
  {
   "cell_type": "markdown",
   "metadata": {},
   "source": [
    "### Wartości i wektory własne"
   ]
  },
  {
   "cell_type": "code",
   "execution_count": 15,
   "metadata": {
    "collapsed": false
   },
   "outputs": [
    {
     "data": {
      "text/plain": [
       "array([[1, 0, 0],\n",
       "       [0, 2, 0],\n",
       "       [0, 0, 3]])"
      ]
     },
     "execution_count": 15,
     "metadata": {},
     "output_type": "execute_result"
    }
   ],
   "source": [
    "a = np.diag((1, 2, 3))\n",
    "a"
   ]
  },
  {
   "cell_type": "code",
   "execution_count": 18,
   "metadata": {
    "collapsed": false
   },
   "outputs": [
    {
     "data": {
      "text/plain": [
       "array([ 1.,  2.,  3.])"
      ]
     },
     "execution_count": 18,
     "metadata": {},
     "output_type": "execute_result"
    }
   ],
   "source": [
    "w,v = np.linalg.eig(a)\n",
    "w"
   ]
  },
  {
   "cell_type": "code",
   "execution_count": 20,
   "metadata": {
    "collapsed": false
   },
   "outputs": [
    {
     "data": {
      "text/plain": [
       "array([[ 1.,  0.,  0.],\n",
       "       [ 0.,  1.,  0.],\n",
       "       [ 0.,  0.,  1.]])"
      ]
     },
     "execution_count": 20,
     "metadata": {},
     "output_type": "execute_result"
    }
   ],
   "source": [
    "v"
   ]
  },
  {
   "cell_type": "markdown",
   "metadata": {},
   "source": [
    "## Zadania 1.3"
   ]
  },
  {
   "cell_type": "markdown",
   "metadata": {},
   "source": [
    "Zapisz i oblicz za pomocą NumPy\n",
    "1. iloczn macierzy $A$ z wektorem $\\vec{x}$:\n",
    "$$\\begin{align*}\n",
    "  A \\vec{x} &= \\left[\n",
    "    \\begin{array}{rrr}\n",
    "      1 & -1 & 2\\\\\n",
    "      0  & -3 & 1\n",
    "    \\end{array}\n",
    "  \\right]\n",
    "  \\left[\n",
    "    \\begin{array}{l}\n",
    "      2\\\\1\\\\0\n",
    "    \\end{array}\n",
    "  \\right]\n",
    "  =\n",
    "  \\left[\n",
    "    \\begin{array}{r}\n",
    "      1\\\\\n",
    "      -3\n",
    "    \\end{array}\n",
    "  \\right].\n",
    "\\end{align*}$$\n",
    "\n",
    "2. iloczyn macierzy $A$ i $B$:  \n",
    "$$\\begin{align*}\n",
    "  AB &=\\left[\n",
    "      \\begin{array}{rrr}\n",
    "        0 & 4 & -2\\\\\n",
    "        -4 & -3 & 0\n",
    "      \\end{array}\n",
    "    \\right] \n",
    "    \\left[\n",
    "      \\begin{array}{rr}\n",
    "        0 &1\\\\\n",
    "        1 & -1\\\\\n",
    "        2 & 3\n",
    "      \\end{array}\n",
    "    \\right]\n",
    "    =\n",
    "    \\left[\n",
    "      \\begin{array}{rr}\n",
    "        0 & -10\\\\\n",
    "        -3 & -1\n",
    "      \\end{array}\n",
    "    \\right].\n",
    "  \\end{align*}$$\n",
    "  \n",
    "3. Pokaż, że dla powyśzych macierzy $A$ i $B$ prawdą jest, że $(AB)^T = B^TA^T$.  \n",
    "4. Oblicz $\\det(AB)$ (wyznacznik iloczynu $AB$).\n",
    "4. Czym rózni się operacja `A**-1` dla obiektów typu `array` i `matrix`? Pokaż na przykładzie. \n",
    "6. Dla macierzy $X = \\left[\n",
    "      \\begin{array}{rrr}\n",
    "        1 & 2 & 3\\\\\n",
    "        1 & 3 & 6 \\\\\n",
    "      \\end{array}\n",
    "    \\right]$ oraz wektora $\\vec{y} = \\left[\n",
    "      \\begin{array}{r}\n",
    "        5 \\\\\n",
    "        6 \\\\\n",
    "      \\end{array}\n",
    "    \\right]$ oblicz wynikowy wektor: \n",
    "$$\\vec{\\theta} = (X^TX)^{-1}X^T\\vec{y} = \\left[\n",
    "      \\begin{array}{r}\n",
    "        -11.75\\\\\n",
    "        8.5 \\\\\n",
    "        -0.6875 \\\\\n",
    "      \\end{array}\n",
    "    \\right]$$. Wykonaj te same obliczenia raz na obiektach typu `array` i raz na obiektach typu `matrix`. W przypadku obiektów typu `matrix` użyj możliwie krótki zapis. "
   ]
  }
 ],
 "metadata": {
  "kernelspec": {
   "display_name": "Python 2",
   "language": "python",
   "name": "python2"
  },
  "language_info": {
   "codemirror_mode": {
    "name": "ipython",
    "version": 2
   },
   "file_extension": ".py",
   "mimetype": "text/x-python",
   "name": "python",
   "nbconvert_exporter": "python",
   "pygments_lexer": "ipython2",
   "version": "2.7.6"
  }
 },
 "nbformat": 4,
 "nbformat_minor": 0
}
