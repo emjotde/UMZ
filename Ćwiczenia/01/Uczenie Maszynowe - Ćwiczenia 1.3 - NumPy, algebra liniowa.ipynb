{
 "metadata": {
  "kernelspec": {
   "display_name": "Python 2",
   "language": "python",
   "name": "python2"
  },
  "language_info": {
   "codemirror_mode": {
    "name": "ipython",
    "version": 2
   },
   "file_extension": ".py",
   "mimetype": "text/x-python",
   "name": "python",
   "nbconvert_exporter": "python",
   "pygments_lexer": "ipython2",
   "version": "2.7.6"
  },
  "name": ""
 },
 "nbformat": 3,
 "nbformat_minor": 0,
 "worksheets": [
  {
   "cells": [
    {
     "cell_type": "markdown",
     "metadata": {},
     "source": [
      "# 1.3 NumPy - Algebra liniowa\n",
      "\n",
      "NumPy jest pakietem szczeg\u00f3lnie przydatnym do oblicze\u0144 w dziedzinie algebry liniowej. W uczeniu maszynowym algebra liniowa b\u0119dzie mia\u0142a du\u017ce znaczenie. \n",
      "\n",
      "Wektor o wymiarach $1 \\times N$ \n",
      "\n",
      "$$\n",
      "    X =\n",
      "    \\begin{pmatrix}\n",
      "    x_{1}  \\\\\n",
      "    x_{2}  \\\\\n",
      "    \\vdots \\\\\n",
      "    x_{N}\n",
      "    \\end{pmatrix} \n",
      "$$\n",
      "\n",
      "i jego transpozycj\u0119\u00a0$\\mathbf{x}^{T} = (x_{1}, x_{2},\\ldots,x_{N})$ mo\u017cna wyrazi\u0107 w Pythonie w nast\u0119puj\u0105cy spos\u00f3b:"
     ]
    },
    {
     "cell_type": "code",
     "collapsed": false,
     "input": [
      "import numpy as np\n",
      "x = np.array([[1,2,3]]).T\n",
      "xt = x.T\n",
      "x.shape"
     ],
     "language": "python",
     "metadata": {},
     "outputs": [
      {
       "metadata": {},
       "output_type": "pyout",
       "prompt_number": 2,
       "text": [
        "(3, 1)"
       ]
      }
     ],
     "prompt_number": 2
    },
    {
     "cell_type": "code",
     "collapsed": false,
     "input": [
      "xt.shape"
     ],
     "language": "python",
     "metadata": {},
     "outputs": [
      {
       "metadata": {},
       "output_type": "pyout",
       "prompt_number": 4,
       "text": [
        "(1, 3)"
       ]
      }
     ],
     "prompt_number": 4
    },
    {
     "cell_type": "markdown",
     "metadata": {},
     "source": [
      "**Macierz kolumnowa** w NumPy.\n",
      "$$X =\n",
      "    \\begin{pmatrix}\n",
      "    3  \\\\\n",
      "    4  \\\\\n",
      "    5  \\\\\n",
      "    6  \n",
      "    \\end{pmatrix}$$"
     ]
    },
    {
     "cell_type": "code",
     "collapsed": false,
     "input": [
      "x = np.array([[3,4,5,6]]).T\n",
      "x"
     ],
     "language": "python",
     "metadata": {},
     "outputs": [
      {
       "metadata": {},
       "output_type": "pyout",
       "prompt_number": 6,
       "text": [
        "array([[3],\n",
        "       [4],\n",
        "       [5],\n",
        "       [6]])"
       ]
      }
     ],
     "prompt_number": 6
    },
    {
     "cell_type": "markdown",
     "metadata": {},
     "source": [
      "A **macierz wierszowa** w NumPy.\n",
      "$$ X =\n",
      "    \\begin{pmatrix}\n",
      "    3 & 4 & 5 & 6\n",
      "    \\end{pmatrix}$$"
     ]
    },
    {
     "cell_type": "code",
     "collapsed": false,
     "input": [
      "x = np.array([[3,4,5,6]])\n",
      "x"
     ],
     "language": "python",
     "metadata": {},
     "outputs": [
      {
       "metadata": {},
       "output_type": "pyout",
       "prompt_number": 8,
       "text": [
        "array([[3, 4, 5, 6]])"
       ]
      }
     ],
     "prompt_number": 8
    },
    {
     "cell_type": "markdown",
     "metadata": {},
     "source": [
      "## Obiekty typu `matrix`\n",
      "\n",
      "Macierze og\u00f3lne om\u00f3wili\u015bmy ju\u017c w poprzednich dokumentach:\n",
      "\n",
      "$$A_{m,n} =\n",
      "    \\begin{pmatrix}\n",
      "     a_{1,1} & a_{1,2} & \\cdots & a_{1,n} \\\\\n",
      "     a_{2,1} & a_{2,2} & \\cdots & a_{2,n} \\\\\n",
      "     \\vdots  & \\vdots  & \\ddots & \\vdots  \\\\\n",
      "     a_{m,1} & a_{m,2} & \\cdots & a_{m,n}\n",
      "    \\end{pmatrix}$$\n",
      "\n",
      "Opr\u00f3cz obiekt\u00f3w typu `array` istnieje wyspecjalizowany obiekt `matrix`, dla kt\u00f3rego operacje `*` (mno\u017cenie) oraz `**-1` (odwracanie) s\u0105 okre\u015blone w spos\u00f3b w\u0142a\u015bciwy dla macierzy (w przeciwie\u0144stwu do operacji elementowych dla obietk\u00f3w `array`)."
     ]
    },
    {
     "cell_type": "code",
     "collapsed": false,
     "input": [
      "x = np.array([1,2,3,4,5,6,7,8,9]).reshape(3,3)\n",
      "x"
     ],
     "language": "python",
     "metadata": {},
     "outputs": [
      {
       "metadata": {},
       "output_type": "pyout",
       "prompt_number": 46,
       "text": [
        "array([[1, 2, 3],\n",
        "       [4, 5, 6],\n",
        "       [7, 8, 9]])"
       ]
      }
     ],
     "prompt_number": 46
    },
    {
     "cell_type": "code",
     "collapsed": false,
     "input": [
      "X = np.matrix(x)\n",
      "X"
     ],
     "language": "python",
     "metadata": {},
     "outputs": [
      {
       "metadata": {},
       "output_type": "pyout",
       "prompt_number": 48,
       "text": [
        "matrix([[1, 2, 3],\n",
        "        [4, 5, 6],\n",
        "        [7, 8, 9]])"
       ]
      }
     ],
     "prompt_number": 48
    },
    {
     "cell_type": "markdown",
     "metadata": {},
     "source": [
      "## Operacje na macierzach\n",
      "### Wyznacznik"
     ]
    },
    {
     "cell_type": "code",
     "collapsed": false,
     "input": [
      "a = np.array([[3,-9],[2,5]])\n",
      "np.linalg.det(a)"
     ],
     "language": "python",
     "metadata": {},
     "outputs": [
      {
       "metadata": {},
       "output_type": "pyout",
       "prompt_number": 9,
       "text": [
        "33.000000000000014"
       ]
      }
     ],
     "prompt_number": 9
    },
    {
     "cell_type": "heading",
     "level": 3,
     "metadata": {},
     "source": [
      "Macierz odwrotna"
     ]
    },
    {
     "cell_type": "code",
     "collapsed": false,
     "input": [
      "A = np.array([[-4,-2],[5,5]])\n",
      "A"
     ],
     "language": "python",
     "metadata": {},
     "outputs": [
      {
       "metadata": {},
       "output_type": "pyout",
       "prompt_number": 59,
       "text": [
        "array([[-4, -2],\n",
        "       [ 5,  5]])"
       ]
      }
     ],
     "prompt_number": 59
    },
    {
     "cell_type": "code",
     "collapsed": false,
     "input": [
      "invA = np.linalg.inv(A)\n",
      "invA"
     ],
     "language": "python",
     "metadata": {},
     "outputs": [
      {
       "metadata": {},
       "output_type": "pyout",
       "prompt_number": 60,
       "text": [
        "array([[-0.5, -0.2],\n",
        "       [ 0.5,  0.4]])"
       ]
      }
     ],
     "prompt_number": 60
    },
    {
     "cell_type": "code",
     "collapsed": false,
     "input": [
      "np.round(np.dot(A,invA))"
     ],
     "language": "python",
     "metadata": {},
     "outputs": [
      {
       "metadata": {},
       "output_type": "pyout",
       "prompt_number": 61,
       "text": [
        "array([[ 1.,  0.],\n",
        "       [ 0.,  1.]])"
       ]
      }
     ],
     "prompt_number": 61
    },
    {
     "cell_type": "markdown",
     "metadata": {},
     "source": [
      "Poniewa\u017c $AA^{-1} = A^{-1}A = I$."
     ]
    },
    {
     "cell_type": "heading",
     "level": 3,
     "metadata": {},
     "source": [
      "Warto\u015bci i wektory w\u0142asne"
     ]
    },
    {
     "cell_type": "code",
     "collapsed": false,
     "input": [
      "a = np.diag((1, 2, 3))\n",
      "a"
     ],
     "language": "python",
     "metadata": {},
     "outputs": [
      {
       "metadata": {},
       "output_type": "pyout",
       "prompt_number": 15,
       "text": [
        "array([[1, 0, 0],\n",
        "       [0, 2, 0],\n",
        "       [0, 0, 3]])"
       ]
      }
     ],
     "prompt_number": 15
    },
    {
     "cell_type": "code",
     "collapsed": false,
     "input": [
      "w,v = np.linalg.eig(a)\n",
      "w"
     ],
     "language": "python",
     "metadata": {},
     "outputs": [
      {
       "metadata": {},
       "output_type": "pyout",
       "prompt_number": 18,
       "text": [
        "array([ 1.,  2.,  3.])"
       ]
      }
     ],
     "prompt_number": 18
    },
    {
     "cell_type": "code",
     "collapsed": false,
     "input": [
      "v"
     ],
     "language": "python",
     "metadata": {},
     "outputs": [
      {
       "metadata": {},
       "output_type": "pyout",
       "prompt_number": 20,
       "text": [
        "array([[ 1.,  0.,  0.],\n",
        "       [ 0.,  1.,  0.],\n",
        "       [ 0.,  0.,  1.]])"
       ]
      }
     ],
     "prompt_number": 20
    },
    {
     "cell_type": "heading",
     "level": 2,
     "metadata": {},
     "source": [
      "Zadania 1.3"
     ]
    },
    {
     "cell_type": "markdown",
     "metadata": {},
     "source": [
      "Zapisz i oblicz za pomoc\u0105 NumPy\n",
      "1. iloczn macierzy $A$ z wektorem $\\vec{x}$:\n",
      "$$\\begin{align*}\n",
      "  A \\vec{x} &= \\left[\n",
      "    \\begin{array}{rrr}\n",
      "      1 & -1 & 2\\\\\n",
      "      0  & -3 & 1\n",
      "    \\end{array}\n",
      "  \\right]\n",
      "  \\left[\n",
      "    \\begin{array}{l}\n",
      "      2\\\\1\\\\0\n",
      "    \\end{array}\n",
      "  \\right]\n",
      "  =\n",
      "  \\left[\n",
      "    \\begin{array}{r}\n",
      "      1\\\\\n",
      "      -3\n",
      "    \\end{array}\n",
      "  \\right].\n",
      "\\end{align*}$$\n",
      "\n",
      "2. iloczyn macierzy $A$ i $B$:  \n",
      "$$\\begin{align*}\n",
      "  AB &=\\left[\n",
      "      \\begin{array}{rrr}\n",
      "        0 & 4 & -2\\\\\n",
      "        -4 & -3 & 0\n",
      "      \\end{array}\n",
      "    \\right] \n",
      "    \\left[\n",
      "      \\begin{array}{rr}\n",
      "        0 &1\\\\\n",
      "        1 & -1\\\\\n",
      "        2 & 3\n",
      "      \\end{array}\n",
      "    \\right]\n",
      "    =\n",
      "    \\left[\n",
      "      \\begin{array}{rr}\n",
      "        0 & -10\\\\\n",
      "        -3 & -1\n",
      "      \\end{array}\n",
      "    \\right].\n",
      "  \\end{align*}$$\n",
      "  \n",
      "3. Poka\u017c, \u017ce dla powy\u015bzych macierzy $A$ i $B$ prawd\u0105\u00a0jest, \u017ce $(AB)^T = B^TA^T$.  \n",
      "4. Oblicz $\\det(AB)$ (wyznacznik iloczynu $AB$).\n",
      "4. Czym r\u00f3zni si\u0119\u00a0operacja `A**-1` dla obiekt\u00f3w typu `array` i `matrix`? Poka\u017c na przyk\u0142adzie. \n",
      "6. Dla macierzy $X = \\left[\n",
      "      \\begin{array}{rrr}\n",
      "        1 & 2 & 3\\\\\n",
      "        1 & 3 & 6 \\\\\n",
      "      \\end{array}\n",
      "    \\right]$ oraz wektora $\\vec{y} = \\left[\n",
      "      \\begin{array}{r}\n",
      "        5 \\\\\n",
      "        6 \\\\\n",
      "      \\end{array}\n",
      "    \\right]$ oblicz wynikowy wektor: \n",
      "$$\\vec{\\theta} = (X^TX)^{-1}X^T\\vec{y} = \\left[\n",
      "      \\begin{array}{r}\n",
      "        -11.75\\\\\n",
      "        8.5 \\\\\n",
      "        -0.6875 \\\\\n",
      "      \\end{array}\n",
      "    \\right]$$. Wykonaj te same obliczenia raz na obiektach typu `array` i raz na obiektach typu `matrix`. W przypadku obiekt\u00f3w typu `matrix` u\u017cyj mo\u017cliwie kr\u00f3tki zapis. "
     ]
    }
   ],
   "metadata": {}
  }
 ]
}