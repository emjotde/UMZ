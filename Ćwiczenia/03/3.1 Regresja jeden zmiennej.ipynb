{
 "metadata": {
  "name": "",
  "signature": "sha256:50b41888e9ba82025787584c555ed2ac76810892b9df83c49ab623e458d7ca72"
 },
 "nbformat": 3,
 "nbformat_minor": 0,
 "worksheets": [
  {
   "cells": [
    {
     "cell_type": "markdown",
     "metadata": {},
     "source": [
      "# Regresja jednej zmiennej\n",
      "\n",
      "Mamy zestaw danych \"kangaroos.txt\", kt\u00f3ry opisuje autentyczny zestaw danych zebranych na rzecz artyku\u0142u naukowego z \"Australian Journal of Zoology, Vol. 28, p607-61\". Pierwsze kolumna opisuje d\u0142ugo\u015b\u0107 nosa kangura szarego, druga kolumna szeroko\u015b\u0107 nosa tego samego osobnika. Nale\u017cy przepowiedzie\u0107 szeroko\u015b\u0107 nosa na podstawie jego d\u0142ugo\u015bci.\n",
      "\n",
      "## Zadania \n",
      "Zadania nale\u017cy wykona\u0107 w tym notebooku (nie w wyk\u0142adowym), prezentacja wynik\u00f3w powinna by\u0107 czytelna. Nie akceptujemy rozwi\u0105za\u0144 w lu\u017anych plikach pythona:\n",
      "1. Uruchom notebook Wyk\u0142ady/03/Regresja Linowa 2.ipynb, przeanalizuj kod zwi\u0105zany z regresj\u0105, pobaw si\u0119 ustawieniami.\n",
      "2. Wykorzystuj\u0105c kod z wyk\u0142adu, stw\u00f3rz wykres punktowy dla dla podanych danych. Zwr\u00f3\u0107 uwag\u0119 na poprawne oznaczenia osi itp.\n",
      "3. Dodaj dowoln\u0105\u00a0prost\u0105\u00a0z r\u0119cznie wybranymi parametrami $\\theta$, oblicz warto\u015b\u0107\u00a0jej b\u0142\u0119du $J(\\theta)$\n",
      "4. Oblicz parametry $\\theta$ krzywej regresyjnej za pomoc\u0105 macierzy normalnej\n",
      "5. Oblicz parametry $\\theta$ krzywej regresyjnej za pomoc\u0105 algorytmu GD (wersja iteracyjna lub macierzowa)\n",
      "6. Dla r\u00f3\u017cynch warto\u015bci $\\alpha = \\{ 0.001, 0.01 , 0.1 \\}$ stw\u00f3rzy wykres, kt\u00f3ry ilustruje progresj\u0119 warto\u015bci $J(\\theta)$ dla pierwszych 100 kr\u00f3k\u00f3w algorytmu GD. (Wykres ma zatem na osi x kroki od 0 do 200, na osi y wartosci $J(\\theta)$, oraz przed stawia trzy krzywe, po jednej dla ka\u017cdej warto\u015bci $\\alpha$.)"
     ]
    },
    {
     "cell_type": "code",
     "collapsed": false,
     "input": [
      "# Nag\u0142owki\n",
      "\n",
      "import pandas as pd\n",
      "import numpy as np\n",
      "import matplotlib\n",
      "import matplotlib.pyplot as pl\n",
      "import IPython.html.widgets as widgets\n",
      "from IPython.html.widgets import fixed\n",
      "from IPython.display import display\n",
      "\n",
      "import warnings\n",
      "with warnings.catch_warnings():\n",
      "    warnings.simplefilter(\"ignore\")\n",
      "\n",
      "%matplotlib inline\n",
      "%config InlineBackend.figure_format = 'svg'\n",
      "\n",
      "from IPython.display import display, Math, Latex"
     ],
     "language": "python",
     "metadata": {},
     "outputs": [],
     "prompt_number": 2
    }
   ],
   "metadata": {}
  }
 ]
}