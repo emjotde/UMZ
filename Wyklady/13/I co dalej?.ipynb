{
 "cells": [
  {
   "cell_type": "markdown",
   "metadata": {
    "slideshow": {
     "slide_type": "slide"
    }
   },
   "source": [
    "# I co dalej?"
   ]
  },
  {
   "cell_type": "markdown",
   "metadata": {
    "slideshow": {
     "slide_type": "slide"
    }
   },
   "source": [
    "## Kursy MOOC"
   ]
  },
  {
   "cell_type": "markdown",
   "metadata": {
    "slideshow": {
     "slide_type": "subslide"
    }
   },
   "source": [
    "### Coursera (Aktywne)\n",
    "\n",
    "Polecam:\n",
    "* https://www.coursera.org/learn/machine-learning\n",
    "\n",
    "Płatne specjalizacje (niekoniecznie polecam):\n",
    "* https://www.coursera.org/specializations/machine-learning"
   ]
  },
  {
   "cell_type": "markdown",
   "metadata": {
    "slideshow": {
     "slide_type": "subslide"
    }
   },
   "source": [
    "### Udacity (Aktywne)\n",
    "\n",
    "Polecam:\n",
    "* https://www.udacity.com/course/deep-learning--ud730\n",
    "\n",
    "Płatne specjalizacje (chyba można też bezpłatnie bez certyfikatów):\n",
    "* https://www.udacity.com/nanodegree"
   ]
  },
  {
   "cell_type": "markdown",
   "metadata": {
    "slideshow": {
     "slide_type": "slide"
    }
   },
   "source": [
    "## Kursy nieaktywne\n",
    "\n",
    "* https://www.youtube.com/playlist?list=PLA89DCFA6ADACE599 (Andrew Ng, nagrane wyklady klasyczne)\n",
    "* https://www.coursera.org/course/neuralnets (Goeffrey Hinton, zaawansowane, dużo)\n",
    "* http://cs224d.stanford.edu/syllabus.html (Richard Socher, zaawansowane, przetwarzanie języka)\n",
    "* http://videolectures.net/deeplearning2015_montreal/ (Bardzo zaawansowane, można sobie wybrać)\n",
    "* ..."
   ]
  },
  {
   "cell_type": "markdown",
   "metadata": {
    "slideshow": {
     "slide_type": "slide"
    }
   },
   "source": [
    "## Konkursy"
   ]
  },
  {
   "cell_type": "markdown",
   "metadata": {
    "slideshow": {
     "slide_type": "subslide"
    }
   },
   "source": [
    "### Kaggle\n",
    "\n",
    "* https://www.kaggle.com/\n",
    "* http://blog.kaggle.com/"
   ]
  },
  {
   "cell_type": "markdown",
   "metadata": {
    "slideshow": {
     "slide_type": "subslide"
    }
   },
   "source": [
    "### Numer.ai\n",
    "\n",
    "* http://numer.ai"
   ]
  },
  {
   "cell_type": "markdown",
   "metadata": {
    "slideshow": {
     "slide_type": "slide"
    }
   },
   "source": [
    "## Angielska Wikipedia\n",
    "\n",
    "<img width=\"40%\" style=\"margin: auto\" src=\"https://i.ytimg.com/vi/eQwM_UJYNII/maxresdefault.jpg\"/>\n",
    "\n",
    "* https://en.wikipedia.org/wiki/Machine_learning\n",
    "* https://en.wikipedia.org/wiki/Deep_learning\n",
    "* ..."
   ]
  },
  {
   "cell_type": "markdown",
   "metadata": {
    "slideshow": {
     "slide_type": "slide"
    }
   },
   "source": [
    "## Ksiązki\n",
    "\n",
    "* Niezłe kompendium z perspektywy matematycznej: M. Krzyśko, W. Wołyński, T. Górecki, M. Skorzybut. Systemy uczące się. WNT 2008.\n",
    "* Inne? **Ksiązka jak się ukaże, to już jest przestarzała.**"
   ]
  },
  {
   "cell_type": "markdown",
   "metadata": {
    "slideshow": {
     "slide_type": "slide"
    }
   },
   "source": [
    "## Ksiązki online\n",
    "\n",
    "* (Polecam) http://neuralnetworksanddeeplearning.com/\n",
    "* (Zaawansowane) http://www.deeplearningbook.org/\n",
    "* ..."
   ]
  },
  {
   "cell_type": "markdown",
   "metadata": {
    "slideshow": {
     "slide_type": "slide"
    }
   },
   "source": [
    "## Artykuły naukowe\n",
    "* Według bibliografii książek podanych powyżej?\n",
    "* Według wpisów w blogach?"
   ]
  },
  {
   "cell_type": "markdown",
   "metadata": {
    "slideshow": {
     "slide_type": "slide"
    }
   },
   "source": [
    "## Dokumentacja i przykłady w pakietach uczenia maszynowego\n",
    "\n",
    "Python:\n",
    "* http://scikit-learn.org/stable/\n",
    "* http://pybrain.org/\n",
    "* http://deeplearning.net/software/theano/\n",
    "* https://www.tensorflow.org/\n",
    "* http://keras.io/\n",
    "* https://github.com/mila-udem/blocks\n",
    "\n",
    "Inne:\n",
    "* (Java) http://www.cs.waikato.ac.nz/ml/weka/\n",
    "* (R) https://cran.r-project.org/web/views/MachineLearning.html\n",
    "* ..."
   ]
  },
  {
   "cell_type": "markdown",
   "metadata": {
    "slideshow": {
     "slide_type": "slide"
    }
   },
   "source": [
    "## Blogi\n",
    "\n",
    "* http://blog.kaggle.com/\n",
    "* http://blogs.nvidia.com/blog/tag/deep-learning/\n",
    "* http://fastml.com/\n",
    "* http://hunch.net/\n",
    "* http://karpathy.github.io/ (ciekawy wpis: http://karpathy.github.io/2015/05/21/rnn-effectiveness/)\n",
    "* http://techblog.netflix.com/\n",
    "* ..."
   ]
  },
  {
   "cell_type": "markdown",
   "metadata": {
    "slideshow": {
     "slide_type": "slide"
    }
   },
   "source": [
    "## Cross Validated - Stack overflow dla uczenia maszynowego\n",
    "\n",
    "* http://stats.stackexchange.com/\n",
    "\n",
    "No i inne fora, grupy, itp. "
   ]
  }
 ],
 "metadata": {
  "celltoolbar": "Slideshow",
  "kernelspec": {
   "display_name": "Python 2",
   "language": "python",
   "name": "python2"
  },
  "language_info": {
   "codemirror_mode": {
    "name": "ipython",
    "version": 2
   },
   "file_extension": ".py",
   "mimetype": "text/x-python",
   "name": "python",
   "nbconvert_exporter": "python",
   "pygments_lexer": "ipython2",
   "version": "2.7.6"
  }
 },
 "nbformat": 4,
 "nbformat_minor": 0
}
