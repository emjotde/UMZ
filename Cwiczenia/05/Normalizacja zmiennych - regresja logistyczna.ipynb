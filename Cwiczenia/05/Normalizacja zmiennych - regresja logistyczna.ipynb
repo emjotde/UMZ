{
 "metadata": {
  "name": "",
  "signature": "sha256:830e154cf6eb166c7a0c16e4cfa23627d97dfaee928a53c94ba34e12af564a44"
 },
 "nbformat": 3,
 "nbformat_minor": 0,
 "worksheets": [
  {
   "cells": [
    {
     "cell_type": "markdown",
     "metadata": {},
     "source": [
      "# Zadania \n",
      "\n",
      "# Normalizacji zmiennych\n",
      "\n",
      "Do danych z ostatnich zaj\u0119\u0107 (gratka.pl):\n",
      "1. U\u017cyj gradient descent, jak zachowuje si\u0119\u00a0regresja wed\u0142ug ceny bez normalizacji danych. Dla wybranch ustawie\u0144, stw\u00f3rz wykresy pokazuj\u0105ce warto\u015bci funkcji kosztu dla pierwszych N krok\u00f3w. \n",
      "2. Wykonaj normalizacj\u0119\u00a0zmiennych tak jak przedstawiono na wyk\u0142adzie\n",
      "3. U\u017cyj ponownie gradient descent na znormalizowanych danych, sprawd\u017a podobne ustawienie i wygeneruj nowe wykresy.  \n",
      "\n",
      "# Regresja logistyczna\n",
      "\n",
      "Zamiast przywidywania ceny, spr\u00f3buj przewidzie\u0107 lokalizacj\u0119\u00a0mieszkania: Centrum/Nie-Centrum za pomoc\u0105 regresji logistcznej. \n",
      "1. Podziel dane trenuj\u0105ce na nowe dane trenju\u0105ce (4/5 danych) i nowe dane testuj\u0105ce (1/5 danych)\n",
      "2. Stw\u00f3rz now\u0105 kolumn\u0119\u00a0zero-jedynkow\u0105, kt\u00f3ra ma warto\u015b\u0107\u00a01 je\u015bli lokalizacja zawiera s\u0142owo \"centrum\" lub \"Centrum\", 0 w przeciwnym przypadku. Usu\u0144 s\u0142owa \"centrum\"/\"Centrum\" z kolumny z lokalizacj\u0105. Cena mieszkania mo\u017ce teraz by\u0107 cech\u0105.\n",
      "3. Stw\u00f3rz dwuklasowy model regresji logistycznej Centrum/Nie-Centrum za pomoc\u0105 nowego zestawu danych trenuj\u0105cych. Podaj procent poprawnych wynik\u00f3w dla nowego zestawu testuj\u0105cego.  "
     ]
    }
   ],
   "metadata": {}
  }
 ]
}