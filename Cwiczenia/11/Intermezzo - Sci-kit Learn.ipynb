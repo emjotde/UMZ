{
 "metadata": {
  "name": "",
  "signature": "sha256:87e3fd8fdcf0e3c9453f8d400ee91720787f1f8c5a4a924fcb22e274d2223271"
 },
 "nbformat": 3,
 "nbformat_minor": 0,
 "worksheets": [
  {
   "cells": [
    {
     "cell_type": "markdown",
     "metadata": {},
     "source": [
      "# Intermezzo: Sci-kit learn\n",
      "\n",
      "## Uczenie za pomoc\u0105 gotowych pakiet\u00f3w\n",
      "\n",
      "B\u0119dziemy dzi\u015b korzysta\u0107 z zaawansowanego pakietu do sieci neuronowych \"Keras\". \n",
      "\n",
      "### Instalacja\n",
      "* Pod Windowsem powinna by\u0107 zainstalowana wersja 0.16.\n",
      "* Pod Linuxem powinna by\u0107 zainstalowana wersja 0.15.\n",
      "* Najnowsza oficjalna wersja to 0.17 (0.18 na githubie w wersji deweloperskiej)\n",
      "\n",
      "* Pod Linuxem mo\u017cna zainstalowa\u0107 lokalnie:\n",
      "        pip install --user sklearn\n",
      "* Lub na w\u0142asnym komputerze:\n",
      "        sudo pip install sklearn\n",
      "* Mo\u017cliwe, \u017ce konieczne jest ponowne uruchomienie IPython, je\u015bli by\u0142 uruchomiony podczas instalacji.\n",
      "\n",
      "### Dokumentacja\n",
      "* Pe\u0142na i obszerna dokumentacja na: http://scikit-learn.org/0.15 (wystarczy zmieni\u0107 numer wersji zgodnie z zainstalowan\u0105 wersj\u0105, aby przej\u015b\u0107\u00a0do dokument\u00f3w dla odpowiedniej wersji)\n",
      "\n",
      "### Zadania teoretyczne\n",
      "* Zapoznaj si\u0119\u00a0z pakietem Sci-Kit learn na podstawie dokumentacji. \n",
      "* Przegl\u0105daj\u0105c spis API (http://scikit-learn.org/0.15/modules/classes.html), podaj list\u0119 dost\u0119pnych rodzaj\u00f3w klasyfikator\u00f3w i regresor\u00f3w. Kt\u00f3re metody poznali\u015bmy na wyk\u0142adach? Kt\u00f3re s\u0105 nowe?\n",
      "* Jakie inne tematy widzisz (ni\u017c\u00a0klasyifikacja/regresja), kt\u00f3re by\u0142y omawiane na wyk\u0142adach?\n",
      "\n",
      "### Zadanie praktyczne\n",
      "* Opracuj tutorial http://scikit-learn.org/0.15/tutorial/text_analytics/working_with_text_data.html w IPython Notebook (do wykonania w tym tygodniu do najbli\u017cszych \u0107wicze\u0144) \n",
      "\n",
      "Powy\u017csze zadania s\u0105 punktowane razem na 40 punkt\u00f3w.\n",
      "\n",
      "### Zadania na te i nast\u0119pne \u0107wiczenia\n",
      "* Opracuj zadanie Exercise 1 lub Exercise 2 (do wyboru) na za dwa tygodnie w postaci IPython Notebook. \n",
      "* B\u0119dzie mo\u017cna te\u017c pracowa\u0107 przy tym na najbliszych \u0107wiczeniach.\n",
      "* Wymagania:\n",
      "    * Dane do tych zada\u0144 trzeba zdoby\u0107 samodzielnie. Dopuszczam dzielenie si\u0119\u00a0danymi, je\u015bli kto\u015b ju\u017c\u00a0co\u015b\u00a0opracowa\u0142/znalaz\u0142.\n",
      "    * Wybierz i sprawd\u017a co najmiej cztery r\u00f3\u017cne rodzaje klasyfikator\u00f3w/regresor\u00f3w, z tego co najmniej dwa, kt\u00f3ry nie by\u0142y dot\u0105d omawiane na \u0107wiczeniach (np. SVM, Naiwny Bayes) lub wyk\u0142adach (drzewa decyzyjne).\n",
      "    * Zawsze wykonaj walidacje krzy\u017cow\u0105 (5-krotn\u0105) i przedstaw wyniki. \n",
      "    * Dodatkowe: Spr\u00f3buj wykona\u0107 optymalizacj\u0119 hiperparamtr\u00f3w za pomoc\u0105 GridSearch lub RandomSearch. Pomog\u0142o?\n",
      "\n",
      "To zadanie b\u0119dzie warte 40 punkt\u00f3w z nast\u0119pnych \u0107wicze\u0144 + 20 punkt\u00f3w za szczeg\u00f3lnie \u0142adne opracowania.\n"
     ]
    },
    {
     "cell_type": "code",
     "collapsed": false,
     "input": [],
     "language": "python",
     "metadata": {},
     "outputs": []
    }
   ],
   "metadata": {}
  }
 ]
}