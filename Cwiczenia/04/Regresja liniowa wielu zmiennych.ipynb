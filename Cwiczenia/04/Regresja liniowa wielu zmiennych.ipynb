{
 "metadata": {
  "name": "",
  "signature": "sha256:8bb3b0b619523ca634abd9c745a4d6c99485a73a05558ae7eec9282b2424854e"
 },
 "nbformat": 3,
 "nbformat_minor": 0,
 "worksheets": [
  {
   "cells": [
    {
     "cell_type": "markdown",
     "metadata": {},
     "source": [
      "# Regresja liniowa wielu zmiennych - Kaggle Competition\n",
      "\n",
      "Dla danych i opisu na stronie: https://inclass.kaggle.com/c/amu-umz-1\n",
      "\n",
      "Nale\u017cy utworzy\u0107 model regresji liniowej (a mo\u017ce wielomianowej?) cen mieszka\u0144 w Poznaniu. Zestaw danych to 5000 aktualnych opis\u00f3w (zebranych w poniedzia\u0142ek) ze strony gratka.pl.  \n",
      "\n",
      "Nale\u017cy pracowa\u0107 w zespo\u0142ach dwuosobowych, najlepszych pi\u0119\u0107 zespo\u0142\u00f3w otrzyma 50 dodatkowych punkt\u00f3w.\n",
      "\n",
      "Miar\u0105 b\u0142\u0119du na danych testowych to \u015brednia kwadratowa b\u0142\u0119du (Root Mean Squared Error, RMSE) dla cen mieszka\u0144, czyli:\n",
      "\n",
      "$$ RMSE = \\sqrt{\\frac{1}{n}\\sum_{i=1}^n\\left(y_i-\\hat{y}_i\\,\\right)^2} $$\n",
      "\n",
      "## Format rozwi\u0105zania\n",
      "\n",
      "Zobacz plik rowiazanie.csv, pierwsza kolumna to ID oferty, druga to przewidziana cena w PLN. Separatorem jest przecinek. Nale\u017cy umie\u015bci\u0107 w pliku nag\u0142\u00f3wki \"Id,Predicted\".\n",
      "\n",
      "## Opis plik\u00f3w\n",
      "\n",
      "* train.csv - Dane trenuj\u0105ce, na ich podstawie budujemy model regresyjny.\n",
      "* testset.nosolution.csv - Dane testuj\u0105ce, dane bez kolumny z cenami, ceny nale\u017cy wygenerowa\u0107 na podstawie podanych informacji.\n",
      "* rozwiazanie.csv - Testowe rozwi\u0105zanie ilustrujace wymagania formatowe, odpowiedzi wygenerowano losowo.\n",
      "\n",
      "## Pola danych\n",
      "\n",
      "* Id - Numer porz\u0105dkowy oferty\n",
      "* Expected - Cena, kt\u00f3r\u0105 nale\u017cy przewidzie\u0107, czyli warto\u015bci Y\n",
      "* Rooms - Liczba pokoi\n",
      "* SqrMeters - Metra\u017c mieszkania\n",
      "* Floor - Pi\u0119tro\n",
      "* Location - Dzielnica lub adres w Poznaniu\n",
      "* Description - Fragment opisu mieszkania\n",
      "\n",
      "## Zadania:\n",
      "\n",
      "1. Dla pierwszych 500 mieszka\u0144 z train.csv utw\u00f3rz wykres z\u0142o\u017cony z trzech umieszczonych obok siebie wykres\u00f3w punktowych ilustruj\u0105cych po kolei korelacj\u0119\u00a0cech liczby pokoi, metra\u017cu i pi\u0119tra mieszkania z cen\u0105\u00a0mieszka\u0144. \n",
      "    1. Zadbaj o poprawne tytu\u0142y na osiach. \n",
      "    1. Opisz w trzech zdaniach wnioski. \n",
      "    1. Uwaga: Dane s\u0105 danymi rzeczywistymi, mo\u017ce si\u0119 pojawi\u0107 szum. Opisz czy wyst\u0105pi\u0142y b\u0142\u0119dne dane, jak psuj\u0105 wykres oraz jak je usuni\u0119to.\n",
      "2. Podziel dane z train.csv na dwie cz\u0119\u015bci, po 4000 i 1000 wpis\u00f3w. \n",
      "    1. Za pomoc\u0105\u00a0macierzy normalnej lub innej metody optymalizacyjnej zbuduj model regresyjny dla pierwszej wi\u0119kszej cze\u015bci.\n",
      "    1. Zastosuj tak stworzony model (parametry $\\theta$) do pozosta\u0142ych 1000 wierszy danych.\n",
      "    1. Oblicz RMSE dla drugiej cze\u015bci danych.\n",
      "    1. Eksperymentuj z doborem cech, aby uzyska\u0107 jak najmniejszy RMSE (Opr\u00f3cz oczywistych cech numerycznych jak metra\u017c, cechy mog\u0105\u00a0by\u0107 kombinacjami\u00a0innych cech, lub symbolicznymi cechami opisuj\u0105cymi wyst\u0119powanie wyraz\u00f3w, itp.)\n",
      "3. Wykorzystuj\u0105c ca\u0142o\u015b\u0107\u00a0danych z train.csv:\n",
      "    1. Stw\u00f3rz nowy model regresyjny i oblicz ceny mieszka\u0144\u00a0dla danych z pliku test.nosolution.csv.\n",
      "    1. Zapisz dane w takiej posta\u0107i jak w pliku przyk\u0142adowym rozwiazanie.csv"
     ]
    },
    {
     "cell_type": "code",
     "collapsed": false,
     "input": [],
     "language": "python",
     "metadata": {},
     "outputs": []
    }
   ],
   "metadata": {}
  }
 ]
}