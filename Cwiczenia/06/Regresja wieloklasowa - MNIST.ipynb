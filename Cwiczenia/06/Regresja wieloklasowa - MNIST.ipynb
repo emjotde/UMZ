{
 "metadata": {
  "name": "",
  "signature": "sha256:5dbddb3599b6c43aacedc765fe5d0cbd5baaa6c357580ee664dc46615517bc5c"
 },
 "nbformat": 3,
 "nbformat_minor": 0,
 "worksheets": [
  {
   "cells": [
    {
     "cell_type": "heading",
     "level": 1,
     "metadata": {},
     "source": [
      "Zadania"
     ]
    },
    {
     "cell_type": "markdown",
     "metadata": {},
     "source": [
      "Zadania dotycz\u0105\u00a0rozpoznawania obrazu, b\u0119dziemy klasyfikowa\u0107\u00a0obrazki r\u0119cznie zapisanych liczb. Zestaw danych, na kt\u00f3rym b\u0119dziemy pracowa\u0107, to s\u0142ynny MNIST (https://en.wikipedia.org/wiki/MNIST_database)\n",
      "\n",
      "Obrazki te wygl\u0105daj\u0105 np.\u00a0tak: <img src=\"http://pavel.surmenok.com/wp-content/uploads/2014/07/mnistdigits.gif\"/>. W bazie MNIST jest ich ok. 70.000 oznaczonych odpowiedznimi liczbami. Zadanie polega na identyfikacji liczby przedstawionej na jednym obrazku.\n",
      "\n",
      "## Przygotowania\n",
      "\n",
      "1. Prosz\u0119 \u015bci\u0105gna\u0107\u00a0sobie cztery pliki `*-images-idx3-ubyte.gz` ze strony http://yann.lecun.com/exdb/mnist/ i rozpakowa\u0107 (!) w tym samym katalogu, w kt\u00f3rym znajduje si\u0119 notebook. Na tej stronie przy okazji s\u0105\u00a0podane wyniki dla niekt\u00f3rych metod. Z regresj\u0105\u00a0logistyczn\u0105 (`linear classifier`) powinni\u015bmy o\u015biagn\u0105c poprawno\u015b\u0107\u00a0ok. 90%, czyli \"error rate\" ok. 10% dla ca\u0142o\u015bci danych.\n",
      "2. Za pomoc\u0105 podanych funkcji `read` i `show` (znalaz\u0142em w internecie, nie trzeba si\u0119\u00a0przejmowa\u0107 za bardzo ich tre\u015bci\u0105) wy\u015bwietli\u0107\u00a0prosz\u0119\u00a0w postaci tablicy `numpy` oraz w posta\u0107i obrazka pierwsze dziesie\u0107 liczb. \n",
      "3. Stworzy\u0107 macierz dla danych trenuj\u0105cych, na pocz\u0105tek dla pierwszych 1000 (`maxItems` w funkcji `toMatrix`, podanie `maxItems=60000` wczyta wszystkie dane). To samo dla danych testowych. \n",
      "4. Zastanowi\u0107 si\u0119: ile cech ma ka\u017cdy obrazek, czym s\u0105 te cechy?\n",
      "\n",
      "## Regresja logistyczna\n",
      "\n",
      "5. Wykorzystuj\u0105c materia\u0142y z ostatniego wyk\u0142adu, wytrenowa\u0107 model regresji logistycznej binarnej dla samych rozpoznaj\u0105cy zera na danych trenuj\u0105cych. Jak\u0105\u00a0osi\u0105gniemy poprawno\u015b\u0107 (accuracy)? (Uwaga, w algorytmie GD wybra\u0107 na pocz\u0105tku ma\u0142a liczb\u0119 krok\u00f3w, np. 100, i powoli zwi\u0119ksza\u0107).\n",
      "6. Na podstawie ostatnie wyk\u0142adu, zbuduj model regresji logistycznej dla wszystkich liczb. Jak\u0105\u00a0osi\u0105gamy poprawno\u015b\u0107\u00a0dla wszystkich klas?\n",
      "7. Spr\u00f3buj zwi\u0119kszy\u0107 liczb\u0119 danych z 1000 na 10000 itd. Co si\u0119\u00a0zaczyna dzia\u0107 z algorytmem GD?\n",
      "8. Zaimplementuj algorytm Batch-SGD (Batch Stochastic Gradient Descent). Prowadz\u0105cy wyja\u015bni na \u0107wiczeniach, na czym polega r\u00f3\u017cnica do naszego zwyk\u0142ego GD. \n",
      "9. Za pomoc\u0105\u00a0Batch-SGD zbuduj model dla ca\u0142osci danych trenuj\u0105cych. Jaki osi\u0105gamy wynik accuracy bawi\u0105c si\u0119 parametrami `alpha`, `maxSteps` i `batchSize`?"
     ]
    },
    {
     "cell_type": "code",
     "collapsed": false,
     "input": [
      "import os\n",
      "import struct\n",
      "import numpy as np\n",
      "\n",
      "%matplotlib inline\n",
      "\n",
      "def read(dataset = \"training\", path = \".\"):\n",
      "    \"\"\"\n",
      "    Python function for importing the MNIST data set.  It returns an iterator\n",
      "    of 2-tuples with the first element being the label and the second element\n",
      "    being a numpy.uint8 2D array of pixel data for the given image.\n",
      "    \"\"\"\n",
      "\n",
      "    if dataset is \"training\":\n",
      "        fname_img = os.path.join(path, 'train-images-idx3-ubyte')\n",
      "        fname_lbl = os.path.join(path, 'train-labels-idx1-ubyte')\n",
      "    elif dataset is \"testing\":\n",
      "        fname_img = os.path.join(path, 't10k-images-idx3-ubyte')\n",
      "        fname_lbl = os.path.join(path, 't10k-labels-idx1-ubyte')\n",
      "    else:\n",
      "        raise ValueError, \"dataset must be 'testing' or 'training'\"\n",
      "\n",
      "    # Load everything in some numpy arrays\n",
      "    with open(fname_lbl, 'rb') as flbl:\n",
      "        magic, num = struct.unpack(\">II\", flbl.read(8))\n",
      "        lbl = np.fromfile(flbl, dtype=np.int8)\n",
      "\n",
      "    with open(fname_img, 'rb') as fimg:\n",
      "        magic, num, rows, cols = struct.unpack(\">IIII\", fimg.read(16))\n",
      "        img = np.fromfile(fimg, dtype=np.uint8).reshape(len(lbl), rows, cols)\n",
      "\n",
      "    get_img = lambda idx: (lbl[idx], img[idx])\n",
      "\n",
      "    # Create an iterator which returns each image in turn\n",
      "    for i in xrange(len(lbl)):\n",
      "        yield get_img(i)\n",
      "\n",
      "def show(image):\n",
      "    \"\"\"\n",
      "    Render a given numpy.uint8 2D array of pixel data.\n",
      "    \"\"\"\n",
      "    from matplotlib import pyplot\n",
      "    import matplotlib as mpl\n",
      "    fig = pyplot.figure()\n",
      "    ax = fig.add_subplot(1,1,1)\n",
      "    imgplot = ax.imshow(image, cmap=mpl.cm.Greys)\n",
      "    imgplot.set_interpolation('nearest')\n",
      "    ax.xaxis.set_ticks_position('top')\n",
      "    ax.yaxis.set_ticks_position('left')\n",
      "    pyplot.show()"
     ],
     "language": "python",
     "metadata": {},
     "outputs": [],
     "prompt_number": 378
    },
    {
     "cell_type": "code",
     "collapsed": false,
     "input": [
      "def toMatrix(data, maxItems=1000):\n",
      "    datalist = [t for t in data]\n",
      "    m = maxItems\n",
      "    n = 28 * 28 + 1\n",
      "    X = np.matrix(np.zeros(m * n)).reshape(m, n)\n",
      "    Y = np.matrix(np.zeros(m)).reshape(m, 1)\n",
      "    for i, (label, image) in enumerate(datalist[:m]):\n",
      "        X[i, 0] = 1 # bias term\n",
      "        X[i, 1:] = image.reshape(28*28,)\n",
      "        Y[i] = label\n",
      "    return X, Y"
     ],
     "language": "python",
     "metadata": {},
     "outputs": [],
     "prompt_number": 1
    },
    {
     "cell_type": "code",
     "collapsed": false,
     "input": [],
     "language": "python",
     "metadata": {},
     "outputs": []
    }
   ],
   "metadata": {}
  }
 ]
}