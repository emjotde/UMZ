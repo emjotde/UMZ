{
 "metadata": {
  "kernelspec": {
   "display_name": "Python 2",
   "language": "python",
   "name": "python2"
  },
  "language_info": {
   "codemirror_mode": {
    "name": "ipython",
    "version": 2
   },
   "file_extension": ".py",
   "mimetype": "text/x-python",
   "name": "python",
   "nbconvert_exporter": "python",
   "pygments_lexer": "ipython2",
   "version": "2.7.6"
  },
  "name": ""
 },
 "nbformat": 3,
 "nbformat_minor": 0,
 "worksheets": [
  {
   "cells": [
    {
     "cell_type": "heading",
     "level": 1,
     "metadata": {},
     "source": [
      "1.1 NumPy - Tablice"
     ]
    },
    {
     "cell_type": "markdown",
     "metadata": {
      "collapsed": true
     },
     "source": [
      "Wprowadzenie\n",
      "---------\n",
      "\n",
      "G\u0142\u00f3wnym obiektem w NumPy jest *jednorodna*, *wielowymiarowa* tablica. Przyk\u0142adem takiej tablicy jest macierz `x`.\n",
      "\n",
      "Macierz $x =\n",
      "    \\begin{pmatrix}\n",
      "    1 & 2 & 3  \\\\\n",
      "    4 & 5 & 6  \\\\\n",
      "    7 & 8 & 9\n",
      "    \\end{pmatrix}$\n",
      "mo\u017cna zapisa\u0107 jako:"
     ]
    },
    {
     "cell_type": "code",
     "collapsed": false,
     "input": [
      "import numpy as np\n",
      "\n",
      "x = np.array([[1,2,3],[4,5,6],[7,8,9]])\n",
      "print x"
     ],
     "language": "python",
     "metadata": {},
     "outputs": [
      {
       "output_type": "stream",
       "stream": "stdout",
       "text": [
        "[[1 2 3]\n",
        " [4 5 6]\n",
        " [7 8 9]]\n"
       ]
      }
     ],
     "prompt_number": 1
    },
    {
     "cell_type": "code",
     "collapsed": false,
     "input": [
      "x.shape"
     ],
     "language": "python",
     "metadata": {},
     "outputs": [
      {
       "metadata": {},
       "output_type": "pyout",
       "prompt_number": 2,
       "text": [
        "(3, 3)"
       ]
      }
     ],
     "prompt_number": 2
    },
    {
     "cell_type": "markdown",
     "metadata": {},
     "source": [
      "Tablice typu `array` maj\u0105 wiele przydatnych wbudowanych metod."
     ]
    },
    {
     "cell_type": "code",
     "collapsed": false,
     "input": [
      "x.sum(axis=0)"
     ],
     "language": "python",
     "metadata": {},
     "outputs": [
      {
       "metadata": {},
       "output_type": "pyout",
       "prompt_number": 3,
       "text": [
        "array([12, 15, 18])"
       ]
      }
     ],
     "prompt_number": 3
    },
    {
     "cell_type": "code",
     "collapsed": false,
     "input": [
      "x.sum(axis=1)"
     ],
     "language": "python",
     "metadata": {},
     "outputs": [
      {
       "metadata": {},
       "output_type": "pyout",
       "prompt_number": 4,
       "text": [
        "array([ 6, 15, 24])"
       ]
      }
     ],
     "prompt_number": 4
    },
    {
     "cell_type": "code",
     "collapsed": false,
     "input": [
      "x.mean(axis=0)"
     ],
     "language": "python",
     "metadata": {},
     "outputs": [
      {
       "metadata": {},
       "output_type": "pyout",
       "prompt_number": 5,
       "text": [
        "array([ 4.,  5.,  6.])"
       ]
      }
     ],
     "prompt_number": 5
    },
    {
     "cell_type": "code",
     "collapsed": false,
     "input": [
      "x.mean(axis=1)"
     ],
     "language": "python",
     "metadata": {},
     "outputs": [
      {
       "metadata": {},
       "output_type": "pyout",
       "prompt_number": 6,
       "text": [
        "array([ 2.,  5.,  8.])"
       ]
      }
     ],
     "prompt_number": 6
    },
    {
     "cell_type": "markdown",
     "metadata": {},
     "source": [
      "Do tworzenia sekwencji liczbowych jako obiekty typu `array` nale\u017cy wykorzysta\u0107 funkcj\u0119 `arange`."
     ]
    },
    {
     "cell_type": "code",
     "collapsed": false,
     "input": [
      "np.arange(10)"
     ],
     "language": "python",
     "metadata": {},
     "outputs": [
      {
       "metadata": {},
       "output_type": "pyout",
       "prompt_number": 7,
       "text": [
        "array([0, 1, 2, 3, 4, 5, 6, 7, 8, 9])"
       ]
      }
     ],
     "prompt_number": 7
    },
    {
     "cell_type": "code",
     "collapsed": false,
     "input": [
      "np.arange(5,10)"
     ],
     "language": "python",
     "metadata": {},
     "outputs": [
      {
       "metadata": {},
       "output_type": "pyout",
       "prompt_number": 8,
       "text": [
        "array([5, 6, 7, 8, 9])"
       ]
      }
     ],
     "prompt_number": 8
    },
    {
     "cell_type": "code",
     "collapsed": false,
     "input": [
      "np.arange(5,10,0.5)"
     ],
     "language": "python",
     "metadata": {},
     "outputs": [
      {
       "metadata": {},
       "output_type": "pyout",
       "prompt_number": 9,
       "text": [
        "array([ 5. ,  5.5,  6. ,  6.5,  7. ,  7.5,  8. ,  8.5,  9. ,  9.5])"
       ]
      }
     ],
     "prompt_number": 9
    },
    {
     "cell_type": "markdown",
     "metadata": {},
     "source": [
      "Mo\u017cemy r\u00f3wnie\u017c zmienia\u0107 kszta\u0142t (**reshape**) wyj\u015bcia funkcji `arange`."
     ]
    },
    {
     "cell_type": "code",
     "collapsed": false,
     "input": [
      "x = np.arange(1,10).reshape(3,3)\n",
      "x"
     ],
     "language": "python",
     "metadata": {},
     "outputs": [
      {
       "metadata": {},
       "output_type": "pyout",
       "prompt_number": 10,
       "text": [
        "array([[1, 2, 3],\n",
        "       [4, 5, 6],\n",
        "       [7, 8, 9]])"
       ]
      }
     ],
     "prompt_number": 10
    },
    {
     "cell_type": "markdown",
     "metadata": {},
     "source": [
      "Podobn\u0105 funkcj\u0105 do `arange` jest `linspace` kt\u00f3ra wype\u0142nia wektor okre\u015blon\u0105 liczb\u0105 element\u00f3w z przedzia\u0142u o r\u00f3wnych automatycznie obliczonych odst\u0119pach (w `arange` sami musimy poda\u0107\u00a0rozmiar kroku.)"
     ]
    },
    {
     "cell_type": "code",
     "collapsed": false,
     "input": [
      "x = np.linspace(0,5,5)\n",
      "x"
     ],
     "language": "python",
     "metadata": {},
     "outputs": [
      {
       "metadata": {},
       "output_type": "pyout",
       "prompt_number": 11,
       "text": [
        "array([ 0.  ,  1.25,  2.5 ,  3.75,  5.  ])"
       ]
      }
     ],
     "prompt_number": 11
    },
    {
     "cell_type": "markdown",
     "metadata": {},
     "source": [
      "Tak jak w przypadku wszystkich funkcji pythonowych mo\u017cemy uzyska\u0107 dodatkowe informacje o funkcjach NumPy za pomoc\u0105 polecenia `help(nazwa.funkcji)`:"
     ]
    },
    {
     "cell_type": "code",
     "collapsed": false,
     "input": [
      "help(np.linspace)"
     ],
     "language": "python",
     "metadata": {},
     "outputs": [
      {
       "output_type": "stream",
       "stream": "stdout",
       "text": [
        "Help on function linspace in module numpy.core.function_base:\n",
        "\n",
        "linspace(start, stop, num=50, endpoint=True, retstep=False, dtype=None)\n",
        "    Return evenly spaced numbers over a specified interval.\n",
        "    \n",
        "    Returns `num` evenly spaced samples, calculated over the\n",
        "    interval [`start`, `stop` ].\n",
        "    \n",
        "    The endpoint of the interval can optionally be excluded.\n",
        "    \n",
        "    Parameters\n",
        "    ----------\n",
        "    start : scalar\n",
        "        The starting value of the sequence.\n",
        "    stop : scalar\n",
        "        The end value of the sequence, unless `endpoint` is set to False.\n",
        "        In that case, the sequence consists of all but the last of ``num + 1``\n",
        "        evenly spaced samples, so that `stop` is excluded.  Note that the step\n",
        "        size changes when `endpoint` is False.\n",
        "    num : int, optional\n",
        "        Number of samples to generate. Default is 50.\n",
        "    endpoint : bool, optional\n",
        "        If True, `stop` is the last sample. Otherwise, it is not included.\n",
        "        Default is True.\n",
        "    retstep : bool, optional\n",
        "        If True, return (`samples`, `step`), where `step` is the spacing\n",
        "        between samples.\n",
        "    dtype : dtype, optional\n",
        "        The type of the output array.  If `dtype` is not given, infer the data\n",
        "        type from the other input arguments.\n",
        "    \n",
        "        .. versionadded:: 1.9.0\n",
        "    \n",
        "    Returns\n",
        "    -------\n",
        "    samples : ndarray\n",
        "        There are `num` equally spaced samples in the closed interval\n",
        "        ``[start, stop]`` or the half-open interval ``[start, stop)``\n",
        "        (depending on whether `endpoint` is True or False).\n",
        "    step : float\n",
        "        Only returned if `retstep` is True\n",
        "    \n",
        "        Size of spacing between samples.\n",
        "    \n",
        "    \n",
        "    See Also\n",
        "    --------\n",
        "    arange : Similar to `linspace`, but uses a step size (instead of the\n",
        "             number of samples).\n",
        "    logspace : Samples uniformly distributed in log space.\n",
        "    \n",
        "    Examples\n",
        "    --------\n",
        "    >>> np.linspace(2.0, 3.0, num=5)\n",
        "        array([ 2.  ,  2.25,  2.5 ,  2.75,  3.  ])\n",
        "    >>> np.linspace(2.0, 3.0, num=5, endpoint=False)\n",
        "        array([ 2. ,  2.2,  2.4,  2.6,  2.8])\n",
        "    >>> np.linspace(2.0, 3.0, num=5, retstep=True)\n",
        "        (array([ 2.  ,  2.25,  2.5 ,  2.75,  3.  ]), 0.25)\n",
        "    \n",
        "    Graphical illustration:\n",
        "    \n",
        "    >>> import matplotlib.pyplot as plt\n",
        "    >>> N = 8\n",
        "    >>> y = np.zeros(N)\n",
        "    >>> x1 = np.linspace(0, 10, N, endpoint=True)\n",
        "    >>> x2 = np.linspace(0, 10, N, endpoint=False)\n",
        "    >>> plt.plot(x1, y, 'o')\n",
        "    [<matplotlib.lines.Line2D object at 0x...>]\n",
        "    >>> plt.plot(x2, y + 0.5, 'o')\n",
        "    [<matplotlib.lines.Line2D object at 0x...>]\n",
        "    >>> plt.ylim([-0.5, 1])\n",
        "    (-0.5, 1)\n",
        "    >>> plt.show()\n",
        "\n"
       ]
      }
     ],
     "prompt_number": 12
    },
    {
     "cell_type": "markdown",
     "metadata": {},
     "source": [
      "Tablice mog\u0105\u00a0sie sk\u0142ada\u0107 z r\u00f3\u017cnych typ\u00f3w danych (ale tylko jednego typu danych r\u00f3wnocze\u015bnie, st\u0105d jednorodno\u015b\u0107)."
     ]
    },
    {
     "cell_type": "code",
     "collapsed": false,
     "input": [
      "x = np.array([1,2,3])\n",
      "print x.dtype\n",
      "x = np.array([0.1,0.2,0.3])\n",
      "print x\n",
      "print x.dtype\n",
      "x = np.array([1,2,3],dtype='float64')\n",
      "print x.dtype"
     ],
     "language": "python",
     "metadata": {},
     "outputs": [
      {
       "output_type": "stream",
       "stream": "stdout",
       "text": [
        "int64\n",
        "[ 0.1  0.2  0.3]\n",
        "float64\n",
        "float64\n"
       ]
      }
     ],
     "prompt_number": 13
    },
    {
     "cell_type": "markdown",
     "metadata": {},
     "source": [
      "Kilka przydatnych funkcji do tworzenia okre\u015blonych tablic:\n",
      "* `zeros`\n",
      "* `ones`"
     ]
    },
    {
     "cell_type": "code",
     "collapsed": false,
     "input": [
      "x = np.zeros([3,4])\n",
      "x"
     ],
     "language": "python",
     "metadata": {},
     "outputs": [
      {
       "metadata": {},
       "output_type": "pyout",
       "prompt_number": 14,
       "text": [
        "array([[ 0.,  0.,  0.,  0.],\n",
        "       [ 0.,  0.,  0.,  0.],\n",
        "       [ 0.,  0.,  0.,  0.]])"
       ]
      }
     ],
     "prompt_number": 14
    },
    {
     "cell_type": "code",
     "collapsed": false,
     "input": [
      "x = np.ones([3,4])\n",
      "x"
     ],
     "language": "python",
     "metadata": {},
     "outputs": [
      {
       "metadata": {},
       "output_type": "pyout",
       "prompt_number": 15,
       "text": [
        "array([[ 1.,  1.,  1.,  1.],\n",
        "       [ 1.,  1.,  1.,  1.],\n",
        "       [ 1.,  1.,  1.,  1.]])"
       ]
      }
     ],
     "prompt_number": 15
    },
    {
     "cell_type": "markdown",
     "metadata": {},
     "source": [
      " ## Zadania 1.1\n",
      "\n",
      "1. Utw\u00f3rz nast\u0119puj\u0105c\u0105 macierz (za pomoc\u0105 polecenia sk\u0142adaj\u0105cego si\u0119 z jednego wiersza)\n",
      "$a =\n",
      "\\begin{pmatrix}\n",
      "1       & 2      & \\cdots & 10      \\\\\n",
      "11      & 12     & \\cdots & 20      \\\\\n",
      "\\vdots  & \\ddots & \\ddots & \\vdots  \\\\\n",
      "91      & 92     & \\cdots & 100 \n",
      "\\end{pmatrix}$\n",
      "2. Za pomoc\u0105 metod obiektu `array` okre\u015bl liczb\u0119\u00a0element\u00f3w, kolumn i wierszy.\n",
      "3. Stw\u00f3rzy wektory \u015brednich po wiersza oraz po kolumnach.\n",
      "4. Jaki jest wynik operacji: `a[4,:]`\n",
      "5. Sprawd\u017a i opisz (kr\u00f3tko) dzia\u0142ania nast\u0119puj\u0105cych funkcji: \n",
      " * `np.log(a)` \n",
      " * `np.cumsum(a)`\n",
      " * `np.rank(a)`\n",
      " * `np.power(a,2)`\n",
      "6. Stw\u00f3rz wektor sk\u0142adaj\u0105cy si\u0119 z 50 punkt\u00f3w z przedzia\u0142u 11 do 23"
     ]
    }
   ],
   "metadata": {}
  }
 ]
}